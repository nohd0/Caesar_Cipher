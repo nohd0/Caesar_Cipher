{
 "cells": [
  {
   "cell_type": "markdown",
   "metadata": {},
   "source": [
    "# Implementation of a Caesar Cipher"
   ]
  },
  {
   "cell_type": "markdown",
   "metadata": {},
   "source": [
    "#### This is just me playing around and creating a poor implementation of a Caesar Cipher"
   ]
  },
  {
   "cell_type": "code",
   "execution_count": 4,
   "metadata": {
    "collapsed": false
   },
   "outputs": [
    {
     "data": {
      "text/plain": [
       "\"Did you ever hear the tragedy of Darth Plagueis The Wise? I thought not. It's not a story the Jedi would tell you. It's a Sith legend. Darth Plagueis was a Dark Lord of the Sith, so powerful and so wise he could use the Force to influence the midichlorians to create life... He had such a knowledge of the dark side that he could even keep the ones he cared about from dying. The dark side of the Force is a pathway to many abilities some consider to be unnatural. He became so powerful... the only thing he was afraid of was losing his power, which eventually, of course, he did. Unfortunately, he taught his apprentice everything he knew, then his apprentice killed him in his sleep. Ironic, he could save others from death, but not himself.\""
      ]
     },
     "execution_count": 4,
     "metadata": {},
     "output_type": "execute_result"
    }
   ],
   "source": [
    "default_message"
   ]
  },
  {
   "cell_type": "code",
   "execution_count": 81,
   "metadata": {
    "collapsed": false
   },
   "outputs": [],
   "source": [
    "def caesar_encrypt(message = default_message, key = 5):\n",
    "    encrypted_message = []\n",
    "    encryption = []\n",
    "    new_message = []\n",
    "    for letter in message:\n",
    "        encrypted_message.append(ord(letter))\n",
    "    for raw_values in encrypted_message:\n",
    "        encryption.append(raw_values - (key % 26))\n",
    "    for updated_values in encryption:\n",
    "        new_message.append(chr(updated_values))\n",
    "    my_string = \"\".join(new_message)\n",
    "    return my_string\n"
   ]
  },
  {
   "cell_type": "code",
   "execution_count": 82,
   "metadata": {
    "collapsed": false
   },
   "outputs": [],
   "source": [
    "def caesar_decrypt(message = caesar_encrypt(), key = 5):\n",
    "    convert_to_numbers = []\n",
    "    decode_the_numbers = []\n",
    "    make_new_characters = []\n",
    "    for letter in message:\n",
    "        convert_to_numbers.append(ord(letter))\n",
    "    for numbers in convert_to_numbers:\n",
    "        decode_the_numbers.append(numbers + (key % 26))\n",
    "    for nums in decode_the_numbers:\n",
    "        make_new_characters.append(chr(nums))\n",
    "    my_string = \"\".join(make_new_characters)\n",
    "    return my_string"
   ]
  },
  {
   "cell_type": "code",
   "execution_count": 84,
   "metadata": {
    "collapsed": false
   },
   "outputs": [
    {
     "name": "stdout",
     "output_type": "stream",
     "text": [
      "Did you ever hear the tragedy of Darth Plagueis The Wise? I thought not. It's not a story the Jedi would tell you. It's a Sith legend. Darth Plagueis was a Dark Lord of the Sith, so powerful and so wise he could use the Force to influence the midichlorians to create life... He had such a knowledge of the dark side that he could even keep the ones he cared about from dying. The dark side of the Force is a pathway to many abilities some consider to be unnatural. He became so powerful... the only thing he was afraid of was losing his power, which eventually, of course, he did. Unfortunately, he taught his apprentice everything he knew, then his apprentice killed him in his sleep. Ironic, he could save others from death, but not himself.\n",
      "+PK\u0007`V\\\u0007L]LY\u0007OLHY\u0007[OL\u0007[YHNLK`\u0007VM\u0007+HY[O\u00077SHN\\LPZ\u0007;OL\u0007>PZL&\u00070\u0007[OV\\NO[\u0007UV[\u0015\u00070[\u000eZ\u0007UV[\u0007H\u0007Z[VY`\u0007[OL\u00071LKP\u0007^V\\SK\u0007[LSS\u0007`V\\\u0015\u00070[\u000eZ\u0007H\u0007:P[O\u0007SLNLUK\u0015\u0007+HY[O\u00077SHN\\LPZ\u0007^HZ\u0007H\u0007+HYR\u00073VYK\u0007VM\u0007[OL\u0007:P[O\u0013\u0007ZV\u0007WV^LYM\\S\u0007HUK\u0007ZV\u0007^PZL\u0007OL\u0007JV\\SK\u0007\\ZL\u0007[OL\u0007-VYJL\u0007[V\u0007PUMS\\LUJL\u0007[OL\u0007TPKPJOSVYPHUZ\u0007[V\u0007JYLH[L\u0007SPML\u0015\u0015\u0015\u0007/L\u0007OHK\u0007Z\\JO\u0007H\u0007RUV^SLKNL\u0007VM\u0007[OL\u0007KHYR\u0007ZPKL\u0007[OH[\u0007OL\u0007JV\\SK\u0007L]LU\u0007RLLW\u0007[OL\u0007VULZ\u0007OL\u0007JHYLK\u0007HIV\\[\u0007MYVT\u0007K`PUN\u0015\u0007;OL\u0007KHYR\u0007ZPKL\u0007VM\u0007[OL\u0007-VYJL\u0007PZ\u0007H\u0007WH[O^H`\u0007[V\u0007THU`\u0007HIPSP[PLZ\u0007ZVTL\u0007JVUZPKLY\u0007[V\u0007IL\u0007\\UUH[\\YHS\u0015\u0007/L\u0007ILJHTL\u0007ZV\u0007WV^LYM\\S\u0015\u0015\u0015\u0007[OL\u0007VUS`\u0007[OPUN\u0007OL\u0007^HZ\u0007HMYHPK\u0007VM\u0007^HZ\u0007SVZPUN\u0007OPZ\u0007WV^LY\u0013\u0007^OPJO\u0007L]LU[\\HSS`\u0013\u0007VM\u0007JV\\YZL\u0013\u0007OL\u0007KPK\u0015\u0007<UMVY[\\UH[LS`\u0013\u0007OL\u0007[H\\NO[\u0007OPZ\u0007HWWYLU[PJL\u0007L]LY`[OPUN\u0007OL\u0007RUL^\u0013\u0007[OLU\u0007OPZ\u0007HWWYLU[PJL\u0007RPSSLK\u0007OPT\u0007PU\u0007OPZ\u0007ZSLLW\u0015\u00070YVUPJ\u0013\u0007OL\u0007JV\\SK\u0007ZH]L\u0007V[OLYZ\u0007MYVT\u0007KLH[O\u0013\u0007I\\[\u0007UV[\u0007OPTZLSM\u0015\n",
      "Did you ever hear the tragedy of Darth Plagueis The Wise? I thought not. It's not a story the Jedi would tell you. It's a Sith legend. Darth Plagueis was a Dark Lord of the Sith, so powerful and so wise he could use the Force to influence the midichlorians to create life... He had such a knowledge of the dark side that he could even keep the ones he cared about from dying. The dark side of the Force is a pathway to many abilities some consider to be unnatural. He became so powerful... the only thing he was afraid of was losing his power, which eventually, of course, he did. Unfortunately, he taught his apprentice everything he knew, then his apprentice killed him in his sleep. Ironic, he could save others from death, but not himself.\n"
     ]
    }
   ],
   "source": [
    "supersecretvalue = 25\n",
    "print(default_message)\n",
    "my_encryption = caesar_encrypt(default_message, supersecretvalue)\n",
    "print(my_encryption)\n",
    "my_decryption = caesar_decrypt(my_encryption, supersecretvalue)\n",
    "print(my_decryption)"
   ]
  },
  {
   "cell_type": "code",
   "execution_count": null,
   "metadata": {
    "collapsed": true
   },
   "outputs": [],
   "source": []
  }
 ],
 "metadata": {
  "kernelspec": {
   "display_name": "Python 3",
   "language": "python",
   "name": "python3"
  },
  "language_info": {
   "codemirror_mode": {
    "name": "ipython",
    "version": 3
   },
   "file_extension": ".py",
   "mimetype": "text/x-python",
   "name": "python",
   "nbconvert_exporter": "python",
   "pygments_lexer": "ipython3",
   "version": "3.6.0"
  }
 },
 "nbformat": 4,
 "nbformat_minor": 2
}
